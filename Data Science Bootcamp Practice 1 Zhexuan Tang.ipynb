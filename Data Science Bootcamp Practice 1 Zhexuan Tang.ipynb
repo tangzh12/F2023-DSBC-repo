{
 "cells": [
  {
   "cell_type": "code",
   "execution_count": null,
   "id": "8c6247be",
   "metadata": {},
   "outputs": [],
   "source": [
    "1. Display Fibonacci Series upto 10 terms\n",
    "2. Display numbers at the odd indices of a list\n",
    "3. Print a list in reverse order\n",
    "4. Your task is to count the number of different words in this text\n",
    "\t\n",
    "\tstring = \"\"\"\n",
    "\tChatGPT has created this text to provide tips on creating interesting paragraphs. \n",
    "\tFirst, start with a clear topic sentence that introduces the main idea. \n",
    "\tThen, support the topic sentence with specific details, examples, and evidence.\n",
    "\tVary the sentence length and structure to keep the reader engaged.\n",
    "\tFinally, end with a strong concluding sentence that summarizes the main points.\n",
    "\tRemember, practice makes perfect!\n",
    "\t\"\"\"\n",
    "\n",
    "5. Write a function that takes a word as an argument and returns the number of vowels in the word\n",
    "6. Iterate through the following list of animals and print each one in all caps.\n",
    "\n",
    "  animals=['tiger', 'elephant', 'monkey', 'zebra', 'panther']\n",
    "\n",
    "7. Iterate from 1 to 15, printing whether the number is odd or even\n",
    "8. Take two integers as input from user and return the sum"
   ]
  },
  {
   "cell_type": "code",
   "execution_count": 1,
   "id": "397cab10",
   "metadata": {},
   "outputs": [
    {
     "name": "stdout",
     "output_type": "stream",
     "text": [
      "This is a Fibonacci series up to 10 terms:\n",
      "[0, 1, 1, 2, 3, 5, 8, 13, 21, 34]\n"
     ]
    }
   ],
   "source": [
    "# Task 1: Display Fibonacci Series up to 10 terms\n",
    "def gen_fib(n):\n",
    "    fib_series = []\n",
    "    a, b = 0, 1\n",
    "    for _ in range(n):\n",
    "        fib_series.append(a)\n",
    "        a, b = b, a + b\n",
    "    return fib_series\n",
    "\n",
    "#setting the range to 10 terms, aka n =10\n",
    "n = 10\n",
    "get_fib_series = gen_fib(n)\n",
    "print(\"This is a Fibonacci series up to\", n, \"terms:\")\n",
    "print(get_fib_series)"
   ]
  },
  {
   "cell_type": "code",
   "execution_count": 4,
   "id": "84b19c18",
   "metadata": {},
   "outputs": [
    {
     "name": "stdout",
     "output_type": "stream",
     "text": [
      "Numbers at odd indices: [14, 1, 9, 8]\n"
     ]
    }
   ],
   "source": [
    "# Task 2: Display numbers at the odd indices of a list\n",
    "\n",
    "my_random_list = [1, 14, 5, 1, 41, 9, 19, 8, 10]\n",
    "\n",
    "odi = []\n",
    "for i in range(1, len(my_random_list), 2):\n",
    "    odi.append(my_random_list[i])\n",
    "\n",
    "print(\"Numbers at odd indices:\", odi)"
   ]
  },
  {
   "cell_type": "code",
   "execution_count": 6,
   "id": "0aac67dc",
   "metadata": {},
   "outputs": [
    {
     "name": "stdout",
     "output_type": "stream",
     "text": [
      "My Original List for this task is: [1, 14, 5, 1, 41, 9, 19, 8, 10]\n",
      "Its reversed List is: [10, 8, 19, 9, 41, 1, 5, 14, 1]\n"
     ]
    }
   ],
   "source": [
    "# Task 3: Print a list in reverse order\n",
    "my_task3_list = [1, 14, 5, 1, 41, 9, 19, 8, 10]\n",
    "my_task3_list_in_reverse = my_task3_list[::-1]\n",
    "\n",
    "print(\"My Original List for this task is:\", my_task3_list)\n",
    "print(\"Its reversed List is:\", my_task3_list_in_reverse)"
   ]
  },
  {
   "cell_type": "code",
   "execution_count": 9,
   "id": "c398fac4",
   "metadata": {},
   "outputs": [
    {
     "name": "stdout",
     "output_type": "stream",
     "text": [
      "Number of different words in this long string is: 47\n"
     ]
    }
   ],
   "source": [
    "# Task 4: Your task is to count the number of different words in this text\n",
    "t4_string = \"\"\"ChatGPT has created this text to provide tips on creating interesting paragraphs. \n",
    "            First, start with a clear topic sentence that introduces the main idea. \n",
    "            Then, support the topic sentence with specific details, examples, and evidence.\n",
    "            Vary the sentence length and structure to keep the reader engaged.\n",
    "            Finally, end with a strong concluding sentence that summarizes the main points.\n",
    "            Remember, practice makes perfect!\"\"\"\n",
    "#spliting the string into different words\n",
    "word_split = t4_string.split()\n",
    "#using a set to contain all of the words\n",
    "words_deposit = set(word_split)\n",
    "#count different words\n",
    "number_of_distinct_words = len(words_deposit)\n",
    "\n",
    "print(\"Number of different words in this long string is:\", number_of_distinct_words)"
   ]
  },
  {
   "cell_type": "code",
   "execution_count": 11,
   "id": "d116a630",
   "metadata": {},
   "outputs": [
    {
     "name": "stdout",
     "output_type": "stream",
     "text": [
      "The word 'pneumonoultramicroscopicsilicovolcanoconiosis' contains 20 vowels.\n"
     ]
    }
   ],
   "source": [
    "# Task 5: Write a function that takes a word as an argument and returns the number of vowels in the word\n",
    "def counting_vowels(wordinsert):\n",
    "    # Creating a variable to store the actual vowel count\n",
    "    vowel_count = 0\n",
    "    # Define what exactly is a vowel\n",
    "    vowels_limit = set(\"aeiou\")\n",
    "    #make sure to convert the word all lower case\n",
    "    for char in wordinsert.lower():\n",
    "        # Check if the character is a vowel\n",
    "        if char in vowels_limit:\n",
    "            vowel_count += 1\n",
    "    \n",
    "    return vowel_count\n",
    "#lets try the longest word in English\n",
    "wordinsert = \"pneumonoultramicroscopicsilicovolcanoconiosis\"\n",
    "calc_result = counting_vowels(wordinsert)\n",
    "print(f\"The word '{wordinsert}' contains {calc_result} vowels.\")"
   ]
  },
  {
   "cell_type": "code",
   "execution_count": 15,
   "id": "261bdc76",
   "metadata": {},
   "outputs": [
    {
     "name": "stdout",
     "output_type": "stream",
     "text": [
      "TIGER\n",
      "ELEPHANT\n",
      "MONKEY\n",
      "ZEBRA\n",
      "PANTHER\n"
     ]
    }
   ],
   "source": [
    "#Task 6: Iterate through the following list of animals and print each one in all caps.\n",
    "    \n",
    "animals = ['tiger', 'elephant', 'monkey', 'zebra', 'panther']\n",
    "\n",
    "for an_animal in animals:\n",
    "    print(an_animal.upper())"
   ]
  },
  {
   "cell_type": "code",
   "execution_count": 17,
   "id": "d8071f62",
   "metadata": {},
   "outputs": [
    {
     "name": "stdout",
     "output_type": "stream",
     "text": [
      "For a list of numbers from 1 to 15,\n",
      "1 is odd.\n",
      "2 is even.\n",
      "3 is odd.\n",
      "4 is even.\n",
      "5 is odd.\n",
      "6 is even.\n",
      "7 is odd.\n",
      "8 is even.\n",
      "9 is odd.\n",
      "10 is even.\n",
      "11 is odd.\n",
      "12 is even.\n",
      "13 is odd.\n",
      "14 is even.\n",
      "15 is odd.\n"
     ]
    }
   ],
   "source": [
    "#Task 7: Iterate from 1 to 15, printing whether the number is odd or even\n",
    "print(f\"For a list of numbers from 1 to 15,\")\n",
    "for number in range(1, 16): #using 16 here because python takes the first range, but omits the last range; for 15 we need to use 16\n",
    "    if number % 2 == 0: # Checking if the number is even by checking if its divisible by 2)\n",
    "        print(f\"{number} is even.\")\n",
    "    else:\n",
    "        print(f\"{number} is odd.\")"
   ]
  },
  {
   "cell_type": "code",
   "execution_count": 19,
   "id": "cff86d56",
   "metadata": {},
   "outputs": [
    {
     "name": "stdout",
     "output_type": "stream",
     "text": [
      "Please enter the first integer: 114\n",
      "Please nter the second integer: 514\n",
      "The sum of 114 and 514 is: 628\n"
     ]
    }
   ],
   "source": [
    "#Task 8: Take two integers as input from user and return the sum \n",
    "# Get user input for the first and second integer\n",
    "num1 = int(input(\"Please enter the first integer: \"))\n",
    "num2 = int(input(\"Please nter the second integer: \"))\n",
    "\n",
    "# Calculate the sum of the two integers\n",
    "calc_sum = num1 + num2\n",
    "\n",
    "# Display the result\n",
    "print(f\"The sum of {num1} and {num2} is: {calc_sum}\")"
   ]
  },
  {
   "cell_type": "code",
   "execution_count": null,
   "id": "26439336",
   "metadata": {},
   "outputs": [],
   "source": []
  }
 ],
 "metadata": {
  "kernelspec": {
   "display_name": "Python 3 (ipykernel)",
   "language": "python",
   "name": "python3"
  },
  "language_info": {
   "codemirror_mode": {
    "name": "ipython",
    "version": 3
   },
   "file_extension": ".py",
   "mimetype": "text/x-python",
   "name": "python",
   "nbconvert_exporter": "python",
   "pygments_lexer": "ipython3",
   "version": "3.11.5"
  }
 },
 "nbformat": 4,
 "nbformat_minor": 5
}
